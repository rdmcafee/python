{
 "cells": [
  {
   "cell_type": "code",
   "execution_count": 1,
   "id": "84a53477",
   "metadata": {},
   "outputs": [],
   "source": [
    "import numpy as np\n",
    "import pandas as pa"
   ]
  },
  {
   "cell_type": "code",
   "execution_count": 31,
   "id": "9d3e1eb5",
   "metadata": {},
   "outputs": [
    {
     "name": "stdout",
     "output_type": "stream",
     "text": [
      "Empty DataFrame\n",
      "Columns: []\n",
      "Index: []\n"
     ]
    }
   ],
   "source": [
    "df = pa.DataFrame()\n",
    "print(df)"
   ]
  },
  {
   "cell_type": "code",
   "execution_count": 35,
   "id": "fa852824",
   "metadata": {},
   "outputs": [],
   "source": [
    "data = [['Phineas', 8], ['Colin', 9], ['Parker', 15], ['Caleb', 16]]\n",
    "df\n",
    "df= df.append(data)"
   ]
  },
  {
   "cell_type": "code",
   "execution_count": 67,
   "id": "65365f07",
   "metadata": {},
   "outputs": [
    {
     "name": "stdout",
     "output_type": "stream",
     "text": [
      "New data frame: \n",
      "         0   1\n",
      "0  Phineas   8\n",
      "1    Colin   9\n",
      "2   Parker  15\n",
      "3    Caleb  16\n"
     ]
    }
   ],
   "source": [
    "print('New data frame: ')\n",
    "print(df)"
   ]
  },
  {
   "cell_type": "code",
   "execution_count": 76,
   "id": "48c72047",
   "metadata": {},
   "outputs": [],
   "source": [
    "pi = pa.read_csv('pi_100000.txt', header = None)"
   ]
  },
  {
   "cell_type": "code",
   "execution_count": 77,
   "id": "a5d1cc3b",
   "metadata": {},
   "outputs": [
    {
     "name": "stdout",
     "output_type": "stream",
     "text": [
      "                                                   0\n",
      "0  3141592653589793238462643383279502884197169399...\n"
     ]
    }
   ],
   "source": [
    "print(pi)"
   ]
  },
  {
   "cell_type": "code",
   "execution_count": null,
   "id": "84af9504",
   "metadata": {},
   "outputs": [],
   "source": []
  }
 ],
 "metadata": {
  "kernelspec": {
   "display_name": "Python 3 (ipykernel)",
   "language": "python",
   "name": "python3"
  },
  "language_info": {
   "codemirror_mode": {
    "name": "ipython",
    "version": 3
   },
   "file_extension": ".py",
   "mimetype": "text/x-python",
   "name": "python",
   "nbconvert_exporter": "python",
   "pygments_lexer": "ipython3",
   "version": "3.7.0"
  }
 },
 "nbformat": 4,
 "nbformat_minor": 5
}
