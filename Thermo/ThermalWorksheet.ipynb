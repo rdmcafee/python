{
 "cells": [
  {
   "cell_type": "code",
   "execution_count": 54,
   "id": "1ecbcf93-00c5-4e60-87d2-533e7d6ba6d3",
   "metadata": {},
   "outputs": [],
   "source": [
    "from sympy import *\n",
    "import sympy as sp\n",
    "import numpy as np\n",
    "import matplotlib.pyplot as plt\n",
    "import scipy as sc\n"
   ]
  },
  {
   "cell_type": "code",
   "execution_count": 64,
   "id": "d02ba716-98c9-481e-8729-82da55a2375f",
   "metadata": {},
   "outputs": [
    {
     "name": "stdout",
     "output_type": "stream",
     "text": [
      "A-B (linear process) y-intercept = 1.0\n"
     ]
    },
    {
     "data": {
      "image/png": "[encoded data removed]",
      "text/plain": [
       "<Figure size 432x288 with 1 Axes>"
      ]
     },
     "metadata": {
      "needs_background": "light"
     },
     "output_type": "display_data"
    }
   ],
   "source": [
    "points_x = [0.06, 0.18, 0.06, 0.18, 0.06, 0.06]\n",
    "points_y = [2, 4, 4, 2, 12, 18.6]\n",
    "\n",
    "fig, ax = plt.subplots()\n",
    "\n",
    "ax.scatter((points_x), (points_y), alpha = 0.2)\n",
    "\n",
    "ad_Bounds = np.linspace(0.06, 0.18, 10)\n",
    "ad_Equation = 2*(ad_Bounds/ad_Bounds)\n",
    "ax.plot(ad_Bounds, ad_Equation)\n",
    "ax.plot((0.06, 0.06), (2,18.6))\n",
    "ax.plot((0.06, 0.18), (4, 4))\n",
    "ax.plot((0.18, 0.18), (2, 4))\n",
    "\n",
    "ab_Bounds = np.linspace(0.06, 0.18, 10)\n",
    "ab_Equation = (2/(0.18-0.06))*ab_Bounds + 1\n",
    "ax.plot(ab_Bounds, ab_Equation)\n",
    "\n",
    "ab_intercept = 4 - (2/(0.18-0.06))*0.18\n",
    "print('A-B (linear process) y-intercept = ' + str(ab_intercept))\n",
    "\n",
    "eb_Bounds = np.linspace(0.06, 0.18, 100)\n",
    "eb_Equation = (12*0.06)/eb_Bounds\n",
    "ax.plot(eb_Bounds, eb_Equation)\n",
    "\n",
    "fb_Bounds = np.linspace(0.06, 0.18, 100)\n",
    "fb_Equation = ((0.18**(7/5)*4)/(fb_Bounds**(7/5)))\n",
    "ax.plot(fb_Bounds, fb_Equation)\n",
    "ax.grid(True, alpha = 0.1)"
   ]
  },
  {
   "cell_type": "code",
   "execution_count": 62,
   "id": "9ed0f265-84be-49c3-93ae-23b458c05c42",
   "metadata": {},
   "outputs": [
    {
     "name": "stdout",
     "output_type": "stream",
     "text": [
      "Adiabatic Process\n"
     ]
    },
    {
     "data": {
      "text/latex": [
       "$\\displaystyle \\int\\limits_{0.06}^{0.18} \\frac{0.362611437473687}{V^{1.4}}\\, dV$"
      ],
      "text/plain": [
       "Integral(0.362611437473687/V**1.4, (V, 0.06, 0.18))"
      ]
     },
     "metadata": {},
     "output_type": "display_data"
    },
    {
     "data": {
      "text/latex": [
       "$\\displaystyle 0.993322$"
      ],
      "text/plain": [
       "0.993322"
      ]
     },
     "metadata": {},
     "output_type": "display_data"
    }
   ],
   "source": [
    "P, V = sp.symbols('P V')\n",
    "adiabatic = ((0.18**(7/5)*4)/(V**(7/5)))\n",
    "adiabatic_work = round(integrate(adiabatic, (V, 0.06, 0.18)), 6)\n",
    "print('Adiabatic Process')\n",
    "display(Integral(adiabatic, (V, 0.06, 0.18)))\n",
    "display(adiabatic_work)"
   ]
  },
  {
   "cell_type": "code",
   "execution_count": 63,
   "id": "9a03f368-d349-420e-9e85-b968113a6276",
   "metadata": {},
   "outputs": [
    {
     "name": "stdout",
     "output_type": "stream",
     "text": [
      "Isothermal Process\n"
     ]
    },
    {
     "data": {
      "text/latex": [
       "$\\displaystyle \\int\\limits_{0.06}^{0.18} \\frac{0.72}{V}\\, dV$"
      ],
      "text/plain": [
       "Integral(0.72/V, (V, 0.06, 0.18))"
      ]
     },
     "metadata": {},
     "output_type": "display_data"
    },
    {
     "data": {
      "text/latex": [
       "$\\displaystyle 0.791001$"
      ],
      "text/plain": [
       "0.791001"
      ]
     },
     "metadata": {},
     "output_type": "display_data"
    }
   ],
   "source": [
    "isothermal = (12*0.06)/V\n",
    "print('Isothermal Process')\n",
    "display(Integral(isothermal, (V, 0.06, 0.18)))\n",
    "\n",
    "isothermal_work = round(integrate(isothermal, (V, 0.06, 0.18)), 6)\n",
    "display(isothermal_work)"
   ]
  },
  {
   "cell_type": "code",
   "execution_count": null,
   "id": "c648850b-d9a9-483c-ad26-364890f8458e",
   "metadata": {},
   "outputs": [],
   "source": []
  }
 ],
 "metadata": {
  "kernelspec": {
   "display_name": "Python 3 (ipykernel)",
   "language": "python",
   "name": "python3"
  },
  "language_info": {
   "codemirror_mode": {
    "name": "ipython",
    "version": 3
   },
   "file_extension": ".py",
   "mimetype": "text/x-python",
   "name": "python",
   "nbconvert_exporter": "python",
   "pygments_lexer": "ipython3",
   "version": "3.7.0"
  }
 },
 "nbformat": 4,
 "nbformat_minor": 5
}
