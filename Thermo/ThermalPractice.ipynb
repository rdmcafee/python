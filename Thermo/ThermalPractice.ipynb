{
 "cells": [
  {
   "cell_type": "code",
   "execution_count": 25,
   "id": "1a675dd6-10e5-4c2f-a864-1a530de81374",
   "metadata": {},
   "outputs": [],
   "source": [
    "from sympy import *\n",
    "import numpy as np\n",
    "import scipy as sc\n",
    "import matplotlib.pyplot as plt"
   ]
  },
  {
   "cell_type": "code",
   "execution_count": 31,
   "id": "86bbea0b-ad94-4617-87c7-04414727f257",
   "metadata": {},
   "outputs": [
    {
     "data": {
      "text/latex": [
       "$\\displaystyle \\frac{P V v}{7} + \\frac{41 P V}{14}$"
      ],
      "text/plain": [
       "P*V*v/7 + 41*P*V/14"
      ]
     },
     "metadata": {},
     "output_type": "display_data"
    },
    {
     "name": "stdout",
     "output_type": "stream",
     "text": [
      "Work_A: \n"
     ]
    },
    {
     "data": {
      "text/latex": [
       "$\\displaystyle \\int\\limits_{0.5}^{4} \\left(\\frac{P V v}{7} + \\frac{41 P V}{14}\\right)\\, dv$"
      ],
      "text/plain": [
       "Integral(P*V*v/7 + 41*P*V/14, (v, 0.5, 4))"
      ]
     },
     "metadata": {},
     "output_type": "display_data"
    },
    {
     "data": {
      "text/latex": [
       "$\\displaystyle 11.375 P V$"
      ],
      "text/plain": [
       "11.375*P*V"
      ]
     },
     "metadata": {},
     "output_type": "display_data"
    }
   ],
   "source": [
    "x, y, z, v, V, P, W, B= symbols('x y z v V P W, B')\n",
    "work_A = ((v/7)*V*P + Rational('41/14')*V*P)\n",
    "display(work_A)\n",
    "print('Work_A: ')\n",
    "display(Integral(work_A, (v, 1/2, 4)))\n",
    "eq_01 = integrate(work_A, (v, 1/2, 4))\n",
    "display(eq_01)"
   ]
  },
  {
   "cell_type": "code",
   "execution_count": 35,
   "id": "f21ff9bb-cd4b-4da9-a73e-8028b9c50142",
   "metadata": {},
   "outputs": [
    {
     "data": {
      "image/png": "[encoded data removed]",
      "text/plain": [
       "<Figure size 432x288 with 1 Axes>"
      ]
     },
     "metadata": {
      "needs_background": "light"
     },
     "output_type": "display_data"
    }
   ],
   "source": [
    "fig, ax = plt.subplots()\n",
    "ax.scatter((1/2, 4, 9/2, 3/2), (3, 7/2, 3/2, 3/2), alpha = 0.2)\n",
    "ax.plot((1/2, 4, 9/2, 3/2, 1/2), (3, 7/2, 3/2, 3/2, 3), alpha = 0.8)\n",
    "ax.set_xlim(0,6)\n",
    "ax.set_ylim(0,5)\n",
    "ax.grid(True, alpha = 0.2)"
   ]
  },
  {
   "cell_type": "code",
   "execution_count": 36,
   "id": "ea2e5196-5728-4bcc-a585-46046ec21483",
   "metadata": {},
   "outputs": [
    {
     "data": {
      "text/latex": [
       "$\\displaystyle 2.25 P V$"
      ],
      "text/plain": [
       "2.25*P*V"
      ]
     },
     "metadata": {},
     "output_type": "display_data"
    },
    {
     "name": "stdout",
     "output_type": "stream",
     "text": [
      "Internal energy is proportional to the product of V*P\n"
     ]
    },
    {
     "data": {
      "text/latex": [
       "$\\displaystyle 18.75 P V$"
      ],
      "text/plain": [
       "18.75*P*V"
      ]
     },
     "metadata": {},
     "output_type": "display_data"
    },
    {
     "name": "stdout",
     "output_type": "stream",
     "text": [
      "Total change in internal energy\n"
     ]
    },
    {
     "data": {
      "text/latex": [
       "$\\displaystyle 18.75 P V$"
      ],
      "text/plain": [
       "18.75*P*V"
      ]
     },
     "metadata": {},
     "output_type": "display_data"
    },
    {
     "name": "stdout",
     "output_type": "stream",
     "text": [
      "Heating: \n"
     ]
    },
    {
     "data": {
      "text/latex": [
       "$\\displaystyle 30.125 P V$"
      ],
      "text/plain": [
       "30.125*P*V"
      ]
     },
     "metadata": {},
     "output_type": "display_data"
    }
   ],
   "source": [
    "eq2 = (3/2)*B*V*P\n",
    "display(eq2)\n",
    "print('Internal energy is proportional to the product of V*P')\n",
    "eq3 = (28/2)*B*V*P\n",
    "\n",
    "B = (3/2)\n",
    "\n",
    "U = eq3-eq2\n",
    "display(U)\n",
    "\n",
    "print('Total change in internal energy')\n",
    "\n",
    "process_A = U\n",
    "\n",
    "\n",
    "\n",
    "display(process_A)\n",
    "\n",
    "print('Heating: ')\n",
    "\n",
    "eq4 = process_A + eq_01\n",
    "\n",
    "display(eq4)"
   ]
  },
  {
   "cell_type": "code",
   "execution_count": null,
   "id": "36ba0b63-4d87-4a53-bbbb-fae305fb7f75",
   "metadata": {},
   "outputs": [],
   "source": [
    "\n"
   ]
  },
  {
   "cell_type": "code",
   "execution_count": null,
   "id": "670fa080-3e8b-4038-a4ff-2567876c71df",
   "metadata": {},
   "outputs": [],
   "source": []
  }
 ],
 "metadata": {
  "kernelspec": {
   "display_name": "Python 3 (ipykernel)",
   "language": "python",
   "name": "python3"
  },
  "language_info": {
   "codemirror_mode": {
    "name": "ipython",
    "version": 3
   },
   "file_extension": ".py",
   "mimetype": "text/x-python",
   "name": "python",
   "nbconvert_exporter": "python",
   "pygments_lexer": "ipython3",
   "version": "3.7.0"
  }
 },
 "nbformat": 4,
 "nbformat_minor": 5
}
